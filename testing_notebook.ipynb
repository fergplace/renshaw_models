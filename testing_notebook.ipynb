{
 "cells": [
  {
   "cell_type": "code",
   "execution_count": 13,
   "metadata": {},
   "outputs": [],
   "source": [
    "def inf_data ( data ) : \n",
    "    data2 = data.split(\"/\")    ##[0] for inf 1 , [-1] for inf 2\n",
    "    data3 = data2[1].split(\"-\") ## [-1] for inf1 \n",
    "    out_data_0 = float(data2[0])\n",
    "    out_data_1 = float(data3[-1].split(\")\")[0])\n",
    "    out_data_2 = float(data2[-1].split(\")\")[0])\n",
    "    \n",
    "    out_data = [out_data_0, out_data_1, out_data_2]\n",
    "    return out_data\n",
    "\n",
    "\n"
   ]
  },
  {
   "cell_type": "code",
   "execution_count": 49,
   "metadata": {},
   "outputs": [
    {
     "ename": "ValueError",
     "evalue": "could not convert string to float: '(-8.100'",
     "output_type": "error",
     "traceback": [
      "\u001b[1;31m---------------------------------------------------------------------------\u001b[0m",
      "\u001b[1;31mValueError\u001b[0m                                Traceback (most recent call last)",
      "Cell \u001b[1;32mIn[49], line 2\u001b[0m\n\u001b[0;32m      1\u001b[0m data \u001b[38;5;241m=\u001b[39m \u001b[38;5;124m\"\u001b[39m\u001b[38;5;124m1/(1+exp(((v -(-20.800))/(-8.100))))\u001b[39m\u001b[38;5;124m\"\u001b[39m\n\u001b[1;32m----> 2\u001b[0m out_data \u001b[38;5;241m=\u001b[39m \u001b[43minf_data\u001b[49m\u001b[43m \u001b[49m\u001b[43m(\u001b[49m\u001b[43m \u001b[49m\u001b[43mdata\u001b[49m\u001b[43m \u001b[49m\u001b[43m)\u001b[49m\n\u001b[0;32m      3\u001b[0m out_data\n",
      "Cell \u001b[1;32mIn[13], line 6\u001b[0m, in \u001b[0;36minf_data\u001b[1;34m(data)\u001b[0m\n\u001b[0;32m      4\u001b[0m out_data_0 \u001b[38;5;241m=\u001b[39m \u001b[38;5;28mfloat\u001b[39m(data2[\u001b[38;5;241m0\u001b[39m])\n\u001b[0;32m      5\u001b[0m out_data_1 \u001b[38;5;241m=\u001b[39m \u001b[38;5;28mfloat\u001b[39m(data3[\u001b[38;5;241m-\u001b[39m\u001b[38;5;241m1\u001b[39m]\u001b[38;5;241m.\u001b[39msplit(\u001b[38;5;124m\"\u001b[39m\u001b[38;5;124m)\u001b[39m\u001b[38;5;124m\"\u001b[39m)[\u001b[38;5;241m0\u001b[39m])\n\u001b[1;32m----> 6\u001b[0m out_data_2 \u001b[38;5;241m=\u001b[39m \u001b[38;5;28;43mfloat\u001b[39;49m\u001b[43m(\u001b[49m\u001b[43mdata2\u001b[49m\u001b[43m[\u001b[49m\u001b[38;5;241;43m-\u001b[39;49m\u001b[38;5;241;43m1\u001b[39;49m\u001b[43m]\u001b[49m\u001b[38;5;241;43m.\u001b[39;49m\u001b[43msplit\u001b[49m\u001b[43m(\u001b[49m\u001b[38;5;124;43m\"\u001b[39;49m\u001b[38;5;124;43m)\u001b[39;49m\u001b[38;5;124;43m\"\u001b[39;49m\u001b[43m)\u001b[49m\u001b[43m[\u001b[49m\u001b[38;5;241;43m0\u001b[39;49m\u001b[43m]\u001b[49m\u001b[43m)\u001b[49m\n\u001b[0;32m      8\u001b[0m out_data \u001b[38;5;241m=\u001b[39m [out_data_0, out_data_1, out_data_2]\n\u001b[0;32m      9\u001b[0m \u001b[38;5;28;01mreturn\u001b[39;00m out_data\n",
      "\u001b[1;31mValueError\u001b[0m: could not convert string to float: '(-8.100'"
     ]
    }
   ],
   "source": [
    "data = \"1/(1+exp(((v -(-20.800))/(-8.100))))\"\n",
    "out_data = inf_data ( data )\n",
    "out_data"
   ]
  },
  {
   "cell_type": "code",
   "execution_count": 43,
   "metadata": {},
   "outputs": [
    {
     "data": {
      "text/plain": [
       "80"
      ]
     },
     "execution_count": 43,
     "metadata": {},
     "output_type": "execute_result"
    }
   ],
   "source": [
    "val = 80\n",
    "import numpy as np \n",
    "\n",
    "#val = (potential * gate_constants[0]) + gate_constants[1]\n",
    "gate_tau =  np.clip(val, -1000 , 80 )\n",
    "gate_tau"
   ]
  },
  {
   "cell_type": "code",
   "execution_count": 11,
   "metadata": {},
   "outputs": [
    {
     "data": {
      "text/plain": [
       "{'m': {'constants_inf': [1.0, 30.5, 11.39343],\n",
       "  'constants_tau': [30.0, 76.56, 26.1479],\n",
       "  '_inf': 0.0049172433592656745,\n",
       "  '_tau': 0.5011113839540371,\n",
       "  '_pow': 1,\n",
       "  'inf_func': <function __main__.inf_Kv1_1(potential, gate_constants)>,\n",
       "  'tau_func': <function __main__.tau_Kv1_1(potential, gate_constants)>},\n",
       " 'h': {'constants_inf': [1.0, 30.0, 27.393],\n",
       "  'constants_tau': [15000.0, 160.56, 100.0],\n",
       "  '_inf': 0.1006212664041962,\n",
       "  '_tau': 1942.1396507245397,\n",
       "  '_pow': 2,\n",
       "  'inf_func': <function __main__.inf_Kv1_1(potential, gate_constants)>,\n",
       "  'tau_func': <function __main__.tau_Kv1_1(potential, gate_constants)>}}"
      ]
     },
     "execution_count": 11,
     "metadata": {},
     "output_type": "execute_result"
    }
   ],
   "source": [
    "inf_Kv__default\n",
    "tau_Kv__default\n",
    "tau_Kv__clipping\n",
    "tau_Kv__const"
   ]
  },
  {
   "cell_type": "code",
   "execution_count": null,
   "metadata": {},
   "outputs": [],
   "source": [
    "def inf_Kv__default( potential ,gate_constants  ) :\n",
    "    gate_inf = gate_constants[0] / ( 1 + np.exp( (potential - (gate_constants[1] ) ) / gate_constants[2])    )\n",
    "#1.0000/(1+ exp((v - -30.5000)/-11.3943))\n",
    "    return gate_inf\n",
    "def tau_Kv__default(potential, gate_constants):\n",
    "#1.0000/(1+ exp((v - -30.0000)/27.3943)) \n",
    "    gate_tau = gate_constants[0] / ( 1 + np.exp( (potential - (-gate_constants[1] ) ) / gate_constants[2])    )\n",
    "    return gate_tau"
   ]
  },
  {
   "cell_type": "code",
   "execution_count": 116,
   "metadata": {},
   "outputs": [],
   "source": [
    "import numpy as np \n",
    "\n",
    "\n",
    "def calc_gate_inf(alpha_gate: np.array, beta_gate: np.array) -> np.array:\n",
    "    gate_inf = alpha_gate / (alpha_gate + beta_gate)\n",
    "    return gate_inf\n",
    "\n",
    "#eq. 2.1.4, 2.2.4 , 3.4 , 4.2.6\n",
    "def calc_tau_gate(alpha_gate: np.array, beta_gate: np.array) -> np.array: \n",
    "    tau = 1. / (alpha_gate + beta_gate) \n",
    "    return tau\n",
    "\n",
    "class Kv_x :\n",
    "    def __init__(self,\n",
    "                 potential : float , \n",
    "                 reversal_potential :float,\n",
    "                 conductance : float ,\n",
    "                 T : float ,\n",
    "                 animal : str\n",
    "                 ) :\n",
    "        self.potential = potential\n",
    "        self.reversal_potential = reversal_potential\n",
    "        self.gates = {} \n",
    "        self.conductance = conductance\n",
    "        self.T = T #temp in C\n",
    "        self.animal = animal \n",
    "    #change to have alpha beta per gate... \n",
    "    def add_gate(self, gate_name : str, \n",
    "                 gate_constants_inf : np.array =None,\n",
    "                 gate_constants_tau : np.array =None,\n",
    "                 gate_power : int =1 ,\n",
    "                 inf_function =None,\n",
    "                 tau_function =None,\n",
    "                 alpha_parms : np.array =None,\n",
    "                 beta_parms : np.array=None,\n",
    "                 alpha_function=None,\n",
    "                 beta_function =None\n",
    "                  ) :\n",
    "        if gate_name in  self.gates.keys() :\n",
    "             self.gates[gate_name] = {} #clear gate if trying to add to it again \n",
    "\n",
    "        tmp_dict= {\n",
    "            \"constants_inf\" :gate_constants_inf,\n",
    "            \"constants_tau\" : gate_constants_tau,\n",
    "            \"_pow\" : gate_power,\n",
    "            \"inf_func\" : inf_function ,\n",
    "            \"tau_func\" : tau_function,\n",
    "            \"alpha_func\" : alpha_function,\n",
    "            \"beta_func\" : beta_function,\n",
    "            \"alpha_parms\" :alpha_parms,\n",
    "            \"beta_parms\" : beta_parms \n",
    "            }\n",
    "        self.gates[gate_name]  = {k : v for k,v  in tmp_dict.items() if v is not None }\n",
    "        \n",
    "        #if inf_constants + tau constants \n",
    "        if \"constants_inf\" in self.gates[gate_name] :\n",
    "            self.gates[gate_name][\"_inf\" ] = inf_function(self.potential, gate_constants_inf)\n",
    "        if \"constants_tau\" in self.gates[gate_name] :\n",
    "            self.gates[gate_name][\"_tau\" ] = tau_function(self.potential, gate_constants_inf)\n",
    "        # if alpha and beta \n",
    "        if \"alpha_parms\" and \"beta_parms\" in self.gates[gate_name] :\n",
    "            alpha = self.gates[gate_name][\"alpha_func\"](self.potential, self.gates[gate_name][\"alpha_parms\"])\n",
    "            beta =  self.gates[gate_name][\"beta_func\"](self.potential, self.gates[gate_name][\"beta_parms\"])\n",
    "            self.gates[gate_name][\"_tau\" ] = calc_tau_gate(alpha, beta)\n",
    "            self.gates[gate_name][\"_inf\" ] = calc_gate_inf(alpha, beta)\n",
    "        \n",
    "# \"_inf\" : inf_function(self.potential, gate_constants_inf  ), \n",
    "# \"_tau\" : tau_function(self.potential , gate_constants_tau ),"
   ]
  },
  {
   "cell_type": "code",
   "execution_count": 119,
   "metadata": {},
   "outputs": [],
   "source": [
    "Kv_1_1 = Kv_x(V, -65, 0.00001, 24, \"rat\")\n",
    "\n",
    "Kv_1_1.add_gate(\"m\", \n",
    "                gate_constants_inf = [1.0, -30.5, -11.39343], \n",
    "                gate_constants_tau = [30.0, -76.56, 26.1479], \n",
    "                gate_power = 1,\n",
    "                inf_function = inf_Kv__default, \n",
    "                tau_function = tau_Kv__default)"
   ]
  },
  {
   "cell_type": "code",
   "execution_count": 120,
   "metadata": {},
   "outputs": [
    {
     "data": {
      "text/plain": [
       "{'m': {'constants_inf': [1.0, -30.5, -11.39343],\n",
       "  'constants_tau': [30.0, -76.56, 26.1479],\n",
       "  '_pow': 1,\n",
       "  'inf_func': <function __main__.inf_Kv__default(potential, gate_constants)>,\n",
       "  'tau_func': <function __main__.tau_Kv__default(potential, gate_constants)>,\n",
       "  '_inf': 0.9950827566407344,\n",
       "  '_tau': 0.4890305252650619}}"
      ]
     },
     "execution_count": 120,
     "metadata": {},
     "output_type": "execute_result"
    }
   ],
   "source": [
    "Kv_1_1.gates"
   ]
  },
  {
   "cell_type": "code",
   "execution_count": 54,
   "metadata": {},
   "outputs": [],
   "source": [
    "def inf_Kv__default( potential ,gate_constants  ) :\n",
    "    gate_inf = gate_constants[0] / ( 1 + np.exp( (potential - (gate_constants[1] ) ) / gate_constants[2])    )\n",
    "#1.0000/(1+ exp((v - -30.5000)/-11.3943))\n",
    "    return gate_inf\n",
    "def tau_Kv__default(potential, gate_constants):\n",
    "#1.0000/(1+ exp((v - -30.0000)/27.3943)) \n",
    "    gate_tau = gate_constants[0] / ( 1 + np.exp( (potential - (-gate_constants[1] ) ) / gate_constants[2])    )\n",
    "    return gate_tau"
   ]
  },
  {
   "cell_type": "code",
   "execution_count": 111,
   "metadata": {},
   "outputs": [],
   "source": [
    "Kv_1_1.add_gate(\"m\" , gate_constants_tau = [30.0, -76.56, 26.1479] ) \n",
    "# , \n",
    "#                 gate_constants_inf = [1.0, -30.5, -11.39343], \n",
    "#                 gate_constants_tau = [30.0, -76.56, 26.1479], \n",
    "#                 gate_power = 1,\n",
    "#                 beta_parms = inf_Kv__default, \n",
    "#                 tau_function = tau_Kv__default)"
   ]
  },
  {
   "cell_type": "code",
   "execution_count": 112,
   "metadata": {},
   "outputs": [
    {
     "data": {
      "text/plain": [
       "{'m': {'constants_tau': [30.0, -76.56, 26.1479], '_pow': 1}}"
      ]
     },
     "execution_count": 112,
     "metadata": {},
     "output_type": "execute_result"
    }
   ],
   "source": [
    "Kv_1_1.gates"
   ]
  },
  {
   "cell_type": "code",
   "execution_count": null,
   "metadata": {},
   "outputs": [],
   "source": []
  }
 ],
 "metadata": {
  "kernelspec": {
   "display_name": "Python 3",
   "language": "python",
   "name": "python3"
  },
  "language_info": {
   "codemirror_mode": {
    "name": "ipython",
    "version": 3
   },
   "file_extension": ".py",
   "mimetype": "text/x-python",
   "name": "python",
   "nbconvert_exporter": "python",
   "pygments_lexer": "ipython3",
   "version": "3.10.9"
  }
 },
 "nbformat": 4,
 "nbformat_minor": 2
}
