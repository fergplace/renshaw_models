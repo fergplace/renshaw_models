{
 "cells": [
  {
   "cell_type": "code",
   "execution_count": 3,
   "metadata": {},
   "outputs": [
    {
     "name": "stdout",
     "output_type": "stream",
     "text": [
      "[106]\n",
      "[13.144]\n",
      "[0.99999233]\n"
     ]
    }
   ],
   "source": [
    "import new_channels\n",
    "\n",
    "\n",
    "channels = new_channels.main()"
   ]
  },
  {
   "cell_type": "code",
   "execution_count": 4,
   "metadata": {},
   "outputs": [
    {
     "data": {
      "text/plain": [
       "{'m': {'constants_inf': [1.0, -30.5, -11.39343],\n",
       "  'constants_tau': [30.0, -76.56, 26.1479],\n",
       "  '_pow': 1,\n",
       "  'inf_func': <function new_channels.inf_Kv__default(potential, gate_constants)>,\n",
       "  'tau_func': <function new_channels.tau_Kv__default(potential, gate_constants)>,\n",
       "  '_inf': array([0.01281034]),\n",
       "  '_tau': array([15.98527424])},\n",
       " 'h': {'constants_inf': [1.0, -30.0, 27.393],\n",
       "  'constants_tau': [15000.0, -160.56, -100.0],\n",
       "  '_pow': 2,\n",
       "  'inf_func': <function new_channels.inf_Kv__default(potential, gate_constants)>,\n",
       "  'tau_func': <function new_channels.tau_Kv__default(potential, gate_constants)>,\n",
       "  '_inf': array([0.86119894]),\n",
       "  '_tau': array([10367.56648905])}}"
      ]
     },
     "execution_count": 4,
     "metadata": {},
     "output_type": "execute_result"
    }
   ],
   "source": [
    "channels['Kv_1_1'].gates"
   ]
  },
  {
   "cell_type": "code",
   "execution_count": 5,
   "metadata": {},
   "outputs": [
    {
     "data": {
      "text/plain": [
       "dict_keys(['m', 'h'])"
      ]
     },
     "execution_count": 5,
     "metadata": {},
     "output_type": "execute_result"
    }
   ],
   "source": [
    "channels['Kv_1_1'].gates.keys()"
   ]
  },
  {
   "cell_type": "code",
   "execution_count": 6,
   "metadata": {},
   "outputs": [],
   "source": [
    "import numpy as np \n",
    "import matplotlib.pyplot as plt \n",
    "\n",
    "potenial = np.arange(-100, 100, 0.5)"
   ]
  },
  {
   "cell_type": "code",
   "execution_count": 8,
   "metadata": {},
   "outputs": [],
   "source": []
  },
  {
   "cell_type": "code",
   "execution_count": 9,
   "metadata": {},
   "outputs": [
    {
     "name": "stdout",
     "output_type": "stream",
     "text": [
      "[126.       125.5      125.       124.5      124.       123.5\n",
      " 123.       122.5      122.       121.5      121.       120.5\n",
      " 120.       119.5      119.       118.5      118.       117.5\n",
      " 117.       116.5      116.       115.5      115.       114.5\n",
      " 114.       113.5      113.       112.5      112.       111.5\n",
      " 111.       110.5      110.       109.5      109.       108.5\n",
      " 108.       107.5      107.       106.5      106.       105.5\n",
      " 105.       104.5      104.       103.5      103.       102.5\n",
      " 102.       101.5      101.       100.5      100.        99.5\n",
      "  99.        98.5       98.        97.5       97.        96.5\n",
      "  96.        95.5       95.        94.5       94.        93.5\n",
      "  93.        92.5       92.        91.5       91.        90.5\n",
      "  90.        89.5       89.        88.5       88.        87.5\n",
      "  87.        86.5       86.        85.5       85.        84.5\n",
      "  84.        83.5       83.        82.5       82.        81.5\n",
      "  81.        80.5       80.        79.5       79.        78.5\n",
      "  78.        77.5       77.        76.5       76.        75.5\n",
      "  75.        74.5       74.        73.5       73.        72.5\n",
      "  72.        71.5       71.        70.5       70.        69.5\n",
      "  69.        68.5       68.        67.5       67.        66.5\n",
      "  66.        65.5       65.        64.5       64.        63.5\n",
      "  63.        62.5       62.        61.5       61.        60.5\n",
      "  60.        59.5       59.        58.5       58.        57.5\n",
      "  57.        56.5       56.        55.5       55.        54.5\n",
      "  54.        53.5       53.        52.5       51.999999  51.5\n",
      "  51.        50.5       50.        49.5       49.        48.5\n",
      "  48.        47.5       47.        46.5       46.        45.5\n",
      "  45.        44.5       44.        43.5       43.        42.5\n",
      "  42.        41.5       41.        40.5       40.        39.5\n",
      "  39.        38.5       38.        37.5       37.        36.5\n",
      "  36.        35.5       35.        34.5       34.        33.5\n",
      "  33.        32.5       32.        31.5       31.        30.5\n",
      "  30.        29.5       29.        28.5       28.        27.5\n",
      "  27.        26.5       26.        25.5       25.        24.5\n",
      "  24.        23.5       23.        22.5       22.        21.5\n",
      "  21.        20.5       20.        19.5       19.        18.5\n",
      "  18.        17.5       17.        16.5       16.        15.5\n",
      "  15.        14.5       14.        13.5       13.        12.5\n",
      "  12.        11.5       11.        10.5       10.         9.5\n",
      "   9.         8.5        8.         7.5        7.         6.5\n",
      "   6.         5.5        5.         4.5        4.         3.5\n",
      "   3.         2.5        2.         1.5        1.         0.5\n",
      "   0.        -0.5       -1.        -1.5       -2.        -2.5\n",
      "  -3.        -3.5       -4.        -4.5       -5.        -5.5\n",
      "  -6.        -6.5       -7.        -7.5       -8.        -8.5\n",
      "  -9.        -9.5      -10.       -10.5      -11.       -11.5\n",
      " -12.       -12.5      -13.       -13.5      -14.       -14.5\n",
      " -15.       -15.5      -16.       -16.5      -17.       -17.5\n",
      " -18.       -18.5      -19.       -19.5      -20.       -20.5\n",
      " -21.       -21.5      -22.       -22.5      -23.       -23.5\n",
      " -24.       -24.5      -25.       -25.5      -26.       -26.5\n",
      " -27.       -27.5      -28.       -28.5      -29.       -29.5\n",
      " -30.       -30.5      -31.       -31.5      -32.       -32.5\n",
      " -33.       -33.5      -34.       -34.5      -35.       -35.5\n",
      " -36.       -36.5      -37.       -37.5      -38.       -38.5\n",
      " -39.       -39.5      -40.       -40.5      -41.       -41.5\n",
      " -42.       -42.5      -43.       -43.5      -44.       -44.5\n",
      " -45.       -45.5      -46.       -46.5      -47.       -47.5\n",
      " -48.       -48.5      -49.       -49.5      -50.       -50.5\n",
      " -51.       -51.5      -52.       -52.5      -53.       -53.5\n",
      " -54.       -54.5      -55.       -55.5      -56.       -56.5\n",
      " -57.       -57.5      -58.       -58.5      -59.       -59.5\n",
      " -60.       -60.5      -61.       -61.5      -62.       -62.5\n",
      " -63.       -63.5      -64.       -64.5      -65.       -65.5\n",
      " -66.       -66.5      -67.       -67.5      -68.       -68.5\n",
      " -69.       -69.5      -70.       -70.5      -71.       -71.5\n",
      " -72.       -72.5      -73.       -73.5     ]\n",
      "[15.624      15.562      15.5        15.438      15.376      15.314\n",
      " 15.252      15.19       15.128      15.066      15.004      14.942\n",
      " 14.88       14.818      14.756      14.694      14.632      14.57\n",
      " 14.508      14.446      14.384      14.322      14.26       14.198\n",
      " 14.136      14.074      14.012      13.95       13.888      13.826\n",
      " 13.764      13.702      13.64       13.578      13.516      13.454\n",
      " 13.392      13.33       13.268      13.206      13.144      13.082\n",
      " 13.02       12.958      12.896      12.834      12.772      12.71\n",
      " 12.648      12.586      12.524      12.462      12.4        12.338\n",
      " 12.276      12.214      12.152      12.09       12.028      11.966\n",
      " 11.904      11.842      11.78       11.718      11.656      11.594\n",
      " 11.532      11.47       11.408      11.346      11.284      11.222\n",
      " 11.16       11.098      11.036      10.974      10.912      10.85\n",
      " 10.788      10.726      10.664      10.602      10.54       10.478\n",
      " 10.416      10.354      10.292      10.23       10.168      10.106\n",
      " 10.044       9.982       9.92        9.858       9.796       9.734\n",
      "  9.672       9.61        9.548       9.486       9.424       9.362\n",
      "  9.3         9.238       9.176       9.114       9.052       8.99\n",
      "  8.928       8.866       8.804       8.742       8.68        8.618\n",
      "  8.556       8.494       8.432       8.37        8.308       8.246\n",
      "  8.184       8.122       8.06        7.998       7.936       7.874\n",
      "  7.812       7.75        7.688       7.626       7.564       7.502\n",
      "  7.44        7.378       7.316       7.254       7.192       7.13\n",
      "  7.068       7.006       6.944       6.882       6.82        6.758\n",
      "  6.696       6.634       6.572       6.51        6.44799988  6.386\n",
      "  6.324       6.262       6.2         6.138       6.076       6.014\n",
      "  5.952       5.89        5.828       5.766       5.704       5.642\n",
      "  5.58        5.518       5.456       5.394       5.332       5.27\n",
      "  5.208       5.146       5.084       5.022       4.96        4.898\n",
      "  4.836       4.774       4.712       4.65        4.588       4.526\n",
      "  4.464       4.402       4.34        4.278       4.216       4.154\n",
      "  4.092       4.03        3.968       3.906       3.844       3.782\n",
      "  3.72        3.658       3.596       3.534       3.472       3.41\n",
      "  3.348       3.286       3.224       3.162       3.1         3.038\n",
      "  2.976       2.914       2.852       2.79        2.728       2.666\n",
      "  2.604       2.542       2.48        2.418       2.356       2.294\n",
      "  2.232       2.17        2.108       2.046       1.984       1.922\n",
      "  1.86        1.798       1.736       1.674       1.612       1.55\n",
      "  1.488       1.426       1.364       1.302       1.24        1.178\n",
      "  1.116       1.054       0.992       0.93        0.868       0.806\n",
      "  0.744       0.682       0.62        0.558       0.496       0.434\n",
      "  0.372       0.31        0.248       0.186       0.124       0.062\n",
      "  0.         -0.062      -0.124      -0.186      -0.248      -0.31\n",
      " -0.372      -0.434      -0.496      -0.558      -0.62       -0.682\n",
      " -0.744      -0.806      -0.868      -0.93       -0.992      -1.054\n",
      " -1.116      -1.178      -1.24       -1.302      -1.364      -1.426\n",
      " -1.488      -1.55       -1.612      -1.674      -1.736      -1.798\n",
      " -1.86       -1.922      -1.984      -2.046      -2.108      -2.17\n",
      " -2.232      -2.294      -2.356      -2.418      -2.48       -2.542\n",
      " -2.604      -2.666      -2.728      -2.79       -2.852      -2.914\n",
      " -2.976      -3.038      -3.1        -3.162      -3.224      -3.286\n",
      " -3.348      -3.41       -3.472      -3.534      -3.596      -3.658\n",
      " -3.72       -3.782      -3.844      -3.906      -3.968      -4.03\n",
      " -4.092      -4.154      -4.216      -4.278      -4.34       -4.402\n",
      " -4.464      -4.526      -4.588      -4.65       -4.712      -4.774\n",
      " -4.836      -4.898      -4.96       -5.022      -5.084      -5.146\n",
      " -5.208      -5.27       -5.332      -5.394      -5.456      -5.518\n",
      " -5.58       -5.642      -5.704      -5.766      -5.828      -5.89\n",
      " -5.952      -6.014      -6.076      -6.138      -6.2        -6.262\n",
      " -6.324      -6.386      -6.448      -6.51       -6.572      -6.634\n",
      " -6.696      -6.758      -6.82       -6.882      -6.944      -7.006\n",
      " -7.068      -7.13       -7.192      -7.254      -7.316      -7.378\n",
      " -7.44       -7.502      -7.564      -7.626      -7.688      -7.75\n",
      " -7.812      -7.874      -7.936      -7.998      -8.06       -8.122\n",
      " -8.184      -8.246      -8.308      -8.37       -8.432      -8.494\n",
      " -8.556      -8.618      -8.68       -8.742      -8.804      -8.866\n",
      " -8.928      -8.99       -9.052      -9.114     ]\n",
      "[ 9.99999168e-01  9.99999121e-01  9.99999071e-01  9.99999018e-01\n",
      "  9.99998962e-01  9.99998902e-01  9.99998840e-01  9.99998773e-01\n",
      "  9.99998703e-01  9.99998629e-01  9.99998551e-01  9.99998468e-01\n",
      "  9.99998380e-01  9.99998288e-01  9.99998190e-01  9.99998087e-01\n",
      "  9.99997977e-01  9.99997862e-01  9.99997740e-01  9.99997611e-01\n",
      "  9.99997474e-01  9.99997330e-01  9.99997177e-01  9.99997016e-01\n",
      "  9.99996845e-01  9.99996665e-01  9.99996475e-01  9.99996273e-01\n",
      "  9.99996060e-01  9.99995835e-01  9.99995597e-01  9.99995346e-01\n",
      "  9.99995080e-01  9.99994799e-01  9.99994502e-01  9.99994188e-01\n",
      "  9.99993856e-01  9.99993505e-01  9.99993134e-01  9.99992741e-01\n",
      "  9.99992327e-01  9.99991888e-01  9.99991425e-01  9.99990935e-01\n",
      "  9.99990417e-01  9.99989870e-01  9.99989291e-01  9.99988679e-01\n",
      "  9.99988033e-01  9.99987349e-01  9.99986626e-01  9.99985862e-01\n",
      "  9.99985055e-01  9.99984201e-01  9.99983298e-01  9.99982344e-01\n",
      "  9.99981336e-01  9.99980269e-01  9.99979142e-01  9.99977951e-01\n",
      "  9.99976691e-01  9.99975359e-01  9.99973952e-01  9.99972464e-01\n",
      "  9.99970890e-01  9.99969227e-01  9.99967470e-01  9.99965611e-01\n",
      "  9.99963647e-01  9.99961570e-01  9.99959374e-01  9.99957054e-01\n",
      "  9.99954600e-01  9.99952006e-01  9.99949265e-01  9.99946366e-01\n",
      "  9.99943302e-01  9.99940063e-01  9.99936639e-01  9.99933020e-01\n",
      "  9.99929193e-01  9.99925148e-01  9.99920872e-01  9.99916352e-01\n",
      "  9.99911573e-01  9.99906521e-01  9.99901181e-01  9.99895536e-01\n",
      "  9.99889568e-01  9.99883259e-01  9.99876590e-01  9.99869540e-01\n",
      "  9.99862087e-01  9.99854209e-01  9.99845880e-01  9.99837075e-01\n",
      "  9.99827768e-01  9.99817929e-01  9.99807527e-01  9.99796532e-01\n",
      "  9.99784908e-01  9.99772620e-01  9.99759631e-01  9.99745899e-01\n",
      "  9.99731383e-01  9.99716037e-01  9.99699815e-01  9.99682666e-01\n",
      "  9.99664537e-01  9.99645373e-01  9.99625114e-01  9.99603698e-01\n",
      "  9.99581058e-01  9.99557125e-01  9.99531824e-01  9.99505078e-01\n",
      "  9.99476805e-01  9.99446916e-01  9.99415319e-01  9.99381918e-01\n",
      "  9.99346608e-01  9.99309281e-01  9.99269822e-01  9.99228109e-01\n",
      "  9.99184012e-01  9.99137397e-01  9.99088118e-01  9.99036024e-01\n",
      "  9.98980955e-01  9.98922739e-01  9.98861197e-01  9.98796140e-01\n",
      "  9.98727366e-01  9.98654663e-01  9.98577807e-01  9.98496561e-01\n",
      "  9.98410673e-01  9.98319878e-01  9.98223896e-01  9.98122432e-01\n",
      "  9.98015170e-01  9.97901782e-01  9.97781915e-01  9.97655201e-01\n",
      "  9.97521248e-01  9.97379642e-01  9.97229947e-01  9.97071700e-01\n",
      "  9.96904413e-01  9.96727569e-01  9.96540623e-01  9.96342996e-01\n",
      "  9.96134080e-01  9.95913229e-01  9.95679761e-01  9.95432955e-01\n",
      "  9.95172050e-01  9.94896240e-01  9.94604674e-01  9.94296451e-01\n",
      "  9.93970620e-01  9.93626175e-01  9.93262053e-01  9.92877129e-01\n",
      "  9.92470216e-01  9.92040056e-01  9.91585323e-01  9.91104611e-01\n",
      "  9.90596437e-01  9.90059233e-01  9.89491340e-01  9.88891003e-01\n",
      "  9.88256372e-01  9.87585485e-01  9.86876271e-01  9.86126542e-01\n",
      "  9.85333983e-01  9.84496146e-01  9.83610446e-01  9.82674148e-01\n",
      "  9.81684361e-01  9.80638030e-01  9.79531924e-01  9.78362629e-01\n",
      "  9.77126535e-01  9.75819826e-01  9.74438467e-01  9.72978194e-01\n",
      "  9.71434499e-01  9.69802617e-01  9.68077508e-01  9.66253848e-01\n",
      "  9.64326007e-01  9.62288032e-01  9.60133632e-01  9.57856156e-01\n",
      "  9.55448574e-01  9.52903451e-01  9.50212932e-01  9.47368709e-01\n",
      "  9.44362002e-01  9.41183528e-01  9.37823476e-01  9.34271471e-01\n",
      "  9.30516549e-01  9.26547116e-01  9.22350918e-01  9.17915001e-01\n",
      "  9.13225671e-01  9.08268449e-01  9.03028032e-01  8.97488242e-01\n",
      "  8.91631977e-01  8.85441156e-01  8.78896668e-01  8.71978307e-01\n",
      "  8.64664717e-01  8.56933317e-01  8.48760240e-01  8.40120254e-01\n",
      "  8.30986685e-01  8.21331335e-01  8.11124397e-01  8.00334360e-01\n",
      "  7.88927912e-01  7.76869840e-01  7.64122917e-01  7.50647791e-01\n",
      "  7.36402862e-01  7.21344152e-01  7.05425172e-01  6.88596776e-01\n",
      "  6.70807012e-01  6.52000959e-01  6.32120559e-01  6.11104436e-01\n",
      "  5.88887709e-01  5.65401791e-01  5.40574176e-01  5.14328215e-01\n",
      "  4.86582881e-01  4.57252519e-01  4.26246579e-01  3.93469340e-01\n",
      "  3.58819612e-01  3.22190422e-01  2.83468689e-01  2.42534872e-01\n",
      "  1.99262597e-01  1.53518275e-01  1.05160683e-01  5.40405311e-02\n",
      "  0.00000000e+00 -5.71277448e-02 -1.17519069e-01 -1.81360413e-01\n",
      " -2.48848869e-01 -3.20192788e-01 -3.95612425e-01 -4.75340615e-01\n",
      " -5.59623498e-01 -6.48721271e-01 -7.42908999e-01 -8.42477459e-01\n",
      " -9.47734041e-01 -1.05900369e+00 -1.17662993e+00 -1.30097589e+00\n",
      " -1.43242545e+00 -1.57138443e+00 -1.71828183e+00 -1.87357114e+00\n",
      " -2.03773178e+00 -2.21127054e+00 -2.39472319e+00 -2.58865607e+00\n",
      " -2.79366789e+00 -3.01039159e+00 -3.23949621e+00 -3.48168907e+00\n",
      " -3.73771786e+00 -4.00837300e+00 -4.29449005e+00 -4.59695233e+00\n",
      " -4.91669359e+00 -5.25470095e+00 -5.61201791e+00 -5.98974758e+00\n",
      " -6.38905610e+00 -6.81117621e+00 -7.25741109e+00 -7.72913836e+00\n",
      " -8.22781435e+00 -8.75497858e+00 -9.31225850e+00 -9.90137457e+00\n",
      " -1.05241455e+01 -1.11824940e+01 -1.18784524e+01 -1.26141693e+01\n",
      " -1.33919161e+01 -1.42140938e+01 -1.50832407e+01 -1.60020399e+01\n",
      " -1.69733281e+01 -1.80001038e+01 -1.90855369e+01 -2.02329783e+01\n",
      " -2.14459705e+01 -2.27282582e+01 -2.40838001e+01 -2.55167810e+01\n",
      " -2.70316249e+01 -2.86330084e+01 -3.03258753e+01 -3.21154520e+01\n",
      " -3.40072630e+01 -3.60071490e+01 -3.81212840e+01 -4.03561947e+01\n",
      " -4.27187809e+01 -4.52163362e+01 -4.78565713e+01 -5.06476370e+01\n",
      " -5.35981500e+01 -5.67172192e+01 -6.00144738e+01 -6.35000931e+01\n",
      " -6.71848379e+01 -7.10800839e+01 -7.51978566e+01 -7.95508683e+01\n",
      " -8.41525577e+01 -8.90171313e+01 -9.41596070e+01 -9.95958607e+01\n",
      " -1.05342675e+02 -1.11417793e+02 -1.17839968e+02 -1.24629027e+02\n",
      " -1.31805930e+02 -1.39392833e+02 -1.47413159e+02 -1.55891668e+02\n",
      " -1.64854535e+02 -1.74329431e+02 -1.84345606e+02 -1.94933982e+02\n",
      " -2.06127249e+02 -2.17959961e+02 -2.30468650e+02 -2.43691932e+02\n",
      " -2.57670631e+02 -2.72447900e+02 -2.88069362e+02 -3.04583243e+02\n",
      " -3.22040524e+02 -3.40495101e+02 -3.60003946e+02 -3.80627287e+02\n",
      " -4.02428793e+02 -4.25475771e+02 -4.49839370e+02 -4.75594806e+02\n",
      " -5.02821592e+02 -5.31603784e+02 -5.62030237e+02 -5.94194884e+02\n",
      " -6.28197026e+02 -6.64141633e+02 -7.02139674e+02 -7.42308458e+02\n",
      " -7.84771994e+02 -8.29661376e+02 -8.77115187e+02 -9.27279928e+02\n",
      " -9.80310466e+02 -1.03637052e+03 -1.09563316e+03 -1.15828134e+03\n",
      " -1.22450847e+03 -1.29451900e+03 -1.36852908e+03 -1.44676719e+03\n",
      " -1.52947486e+03 -1.61690744e+03 -1.70933484e+03 -1.80704241e+03\n",
      " -1.91033180e+03 -2.01952188e+03 -2.13494973e+03 -2.25697172e+03\n",
      " -2.38596456e+03 -2.52232646e+03 -2.66647841e+03 -2.81886543e+03\n",
      " -2.97995799e+03 -3.15025339e+03 -3.33027739e+03 -3.52058576e+03]\n"
     ]
    },
    {
     "name": "stderr",
     "output_type": "stream",
     "text": [
      "c:\\Users\\13108\\Documents\\GitHub\\renshaw_models\\new_channels.py:211: RuntimeWarning: invalid value encountered in divide\n",
      "  beta= tmp5/tmp6\n"
     ]
    }
   ],
   "source": [
    "channel =\"Nav_1_3\"\n",
    "channels[channel]\n",
    "inf_values = channels[channel].inf_calc_all_gates(potenial)\n",
    "\n",
    "#plt.plot(potenial, inf_values[])"
   ]
  },
  {
   "cell_type": "code",
   "execution_count": 15,
   "metadata": {},
   "outputs": [
    {
     "data": {
      "text/plain": [
       "[<matplotlib.lines.Line2D at 0x20acd343e20>]"
      ]
     },
     "execution_count": 15,
     "metadata": {},
     "output_type": "execute_result"
    },
    {
     "data": {
      "image/png": "[encoded data removed]",
      "text/plain": [
       "<Figure size 640x480 with 1 Axes>"
      ]
     },
     "metadata": {},
     "output_type": "display_data"
    }
   ],
   "source": [
    "plt.plot(potenial, inf_values[1,0,:] )"
   ]
  },
  {
   "cell_type": "code",
   "execution_count": null,
   "metadata": {},
   "outputs": [],
   "source": [
    "\n",
    "# for channel in channels.keys() :\n",
    "#     for gate_name in channels[channel].gates.keys() :\n",
    "#         gate = channels[channel].gates[gate_name]\n",
    "#         inf_data =gate[\"inf_func\"](potenial, gate[\"constants_inf\"])\n",
    "#         label_str = f\"{channel}_{gate_name}\"\n",
    "#         plt.plot(potenial, inf_data, label=label_str)\n",
    "\n",
    "# plt.legend()"
   ]
  },
  {
   "cell_type": "code",
   "execution_count": null,
   "metadata": {},
   "outputs": [
    {
     "data": {
      "text/plain": [
       "{'_pow': 3,\n",
       " 'alpha_func': <function new_channels.alpha_Nav(potential, gate_constants)>,\n",
       " 'beta_func': <function new_channels.beta_Nav(potential: <built-in function array>, gate_constants)>,\n",
       " 'alpha_parms': [0.182, -26, 9.0, 0.124],\n",
       " 'beta_parms': [0.124, -26, 9.0, 0.124],\n",
       " '_tau': array([0.07593866]),\n",
       " '_inf': array([0.00185455])}"
      ]
     },
     "execution_count": 6,
     "metadata": {},
     "output_type": "execute_result"
    }
   ],
   "source": [
    "channels['Nav_1_3'].gates[\"m\"]"
   ]
  },
  {
   "cell_type": "code",
   "execution_count": null,
   "metadata": {},
   "outputs": [
    {
     "name": "stderr",
     "output_type": "stream",
     "text": [
      "c:\\Users\\fplac\\OneDrive\\Documents\\GitHub\\renshaw_models\\new_channels.py:208: RuntimeWarning: invalid value encountered in divide\n",
      "  beta= tmp5/tmp6\n"
     ]
    }
   ],
   "source": [
    "channel =\"Nav_1_3\"\n",
    "channels[channel]\n",
    "inf_values = channels[channel].inf_calc_all_gates(potenial)\n",
    "\n"
   ]
  },
  {
   "cell_type": "code",
   "execution_count": null,
   "metadata": {},
   "outputs": [
    {
     "name": "stdout",
     "output_type": "stream",
     "text": [
      "Cav_2_2 m\n",
      "Cav_2_2 h\n"
     ]
    },
    {
     "data": {
      "text/plain": [
       "Text(0.5, 1.0, 'tau')"
      ]
     },
     "execution_count": 8,
     "metadata": {},
     "output_type": "execute_result"
    },
    {
     "data": {
      "image/png": "[encoded data removed]",
      "text/plain": [
       "<Figure size 640x480 with 1 Axes>"
      ]
     },
     "metadata": {},
     "output_type": "display_data"
    },
    {
     "data": {
      "image/png": "[encoded data removed]",
      "text/plain": [
       "<Figure size 640x480 with 1 Axes>"
      ]
     },
     "metadata": {},
     "output_type": "display_data"
    }
   ],
   "source": [
    "\n",
    "for channel in list(channels.keys())[13:14] :\n",
    "    for gate_name in channels[channel].gates.keys() :\n",
    "        print(channel , gate_name )\n",
    "        inf_data, tau_data =channels[channel].inf_calc(gate_name, potenial)\n",
    "        label_str = f\"{channel}_{gate_name}\"\n",
    "        plt.figure(1)\n",
    "        plt.plot(potenial, inf_data, label=label_str)\n",
    "        plt.figure(2)\n",
    "        plt.plot(potenial, tau_data, label=label_str)\n",
    "    \n",
    "plt.figure(1)\n",
    "plt.legend()\n",
    "plt.title(\"inf\")\n",
    "plt.figure(2)\n",
    "plt.legend()\n",
    "plt.title(\"tau\")"
   ]
  },
  {
   "cell_type": "code",
   "execution_count": null,
   "metadata": {},
   "outputs": [
    {
     "data": {
      "text/plain": [
       "['Kv_1_1',\n",
       " 'Kv_1_2',\n",
       " 'Kv_1_3',\n",
       " 'Kv_1_4',\n",
       " 'Kv_1_5',\n",
       " 'Kv_1_6',\n",
       " 'Kv_2_1',\n",
       " 'Kv_2_2',\n",
       " 'Kv_3_1',\n",
       " 'Kv_3_2',\n",
       " 'Kv_4_2',\n",
       " 'Nav_1_3',\n",
       " 'Nav_1_6',\n",
       " 'Cav_2_2',\n",
       " 'Cav_3_1']"
      ]
     },
     "execution_count": 9,
     "metadata": {},
     "output_type": "execute_result"
    }
   ],
   "source": [
    "list(channels.keys())"
   ]
  },
  {
   "cell_type": "markdown",
   "metadata": {},
   "source": [
    "## Kv_1x "
   ]
  },
  {
   "cell_type": "code",
   "execution_count": null,
   "metadata": {},
   "outputs": [
    {
     "name": "stderr",
     "output_type": "stream",
     "text": [
      "c:\\Users\\13108\\Documents\\GitHub\\renshaw_models\\new_channels.py:206: RuntimeWarning: invalid value encountered in divide\n",
      "  beta= tmp5/tmp6\n"
     ]
    }
   ],
   "source": [
    "ch_dict = {}\n",
    "list(channels.keys())\n",
    "\n",
    "for channel in list(channels.keys()):\n",
    "    gate_dict = {}\n",
    "    for gate_name in channels[channel].gates.keys() :\n",
    "        #print(channel , gate_name )\n",
    "        \n",
    "        [inf_data, tau_data] =channels[channel].inf_calc(gate_name, potenial)\n",
    "        gate_dict[gate_name] = [inf_data, tau_data]\n",
    "        label_str = f\"{channel}_{gate_name}\"\n",
    "        # plt.figure(1)\n",
    "        # plt.plot(potenial, inf_data, label=label_str)\n",
    "        # plt.figure(2)\n",
    "        # plt.plot(potenial, tau_data, label=label_str)\n",
    "    ch_dict[channel] = gate_dict\n",
    "    \n",
    "# plt.figure(1)\n",
    "# plt.legend()\n",
    "# plt.title(\"inf\")\n",
    "# plt.figure(2)\n",
    "# plt.legend()\n",
    "# plt.title(\"tau\")"
   ]
  },
  {
   "cell_type": "code",
   "execution_count": null,
   "metadata": {},
   "outputs": [
    {
     "data": {
      "text/plain": [
       "'Cav_3_1'"
      ]
     },
     "execution_count": 11,
     "metadata": {},
     "output_type": "execute_result"
    }
   ],
   "source": [
    "channel"
   ]
  },
  {
   "cell_type": "code",
   "execution_count": null,
   "metadata": {},
   "outputs": [],
   "source": [
    "ch_list = list(ch_dict.keys())\n",
    "#0 for inf 1 for tau: \n",
    "#ch_dict[ch_list[1]][\"m\"][1]"
   ]
  },
  {
   "cell_type": "code",
   "execution_count": null,
   "metadata": {},
   "outputs": [
    {
     "data": {
      "image/png": "[encoded data removed]",
      "text/plain": [
       "<Figure size 640x480 with 4 Axes>"
      ]
     },
     "metadata": {},
     "output_type": "display_data"
    }
   ],
   "source": [
    "i = 12\n",
    "end = 13\n",
    "fig, axs = plt.subplots(2,2)\n",
    "ch_list[i:end]\n",
    "fig.suptitle(ch_list[i:end])\n",
    "for ch_name in ch_list[i:end] :\n",
    "    fig_c = 0\n",
    "    \n",
    "    for ch_gate in ch_dict[ch_name] :\n",
    "        #plt.subplot(2, 2, fig_c)\n",
    "        tmp_inf = ch_dict[ch_name][ch_gate][0]\n",
    "        label_str = f\"{ch_name}_{ch_gate}\"\n",
    "        axs[0,fig_c].plot(potenial, tmp_inf, label=label_str)\n",
    "        axs[0,fig_c].set_title(ch_gate)\n",
    "        \n",
    "\n",
    "        tmp_tau = ch_dict[ch_name][ch_gate][1]\n",
    "        axs[1,fig_c].plot(potenial, tmp_tau, label=label_str)\n",
    "     \n",
    "        fig_c += 1\n",
    "    plt.tight_layout()\n",
    "    axs[1,0].set_xlabel(\"mv\")\n",
    "    axs[0,0].set_ylabel(\"inf\")\n",
    "    axs[1,0].set_ylabel(\"tau\")\n",
    "    axs[1,0].legend(fontsize=\"x-small\")\n"
   ]
  },
  {
   "cell_type": "code",
   "execution_count": null,
   "metadata": {},
   "outputs": [
    {
     "ename": "IndexError",
     "evalue": "index 2 is out of bounds for axis 1 with size 2",
     "output_type": "error",
     "traceback": [
      "\u001b[1;31m---------------------------------------------------------------------------\u001b[0m",
      "\u001b[1;31mIndexError\u001b[0m                                Traceback (most recent call last)",
      "Cell \u001b[1;32mIn[31], line 8\u001b[0m\n\u001b[0;32m      6\u001b[0m tmp_inf \u001b[38;5;241m=\u001b[39m ch_dict[ch_name][ch_gate][\u001b[38;5;241m0\u001b[39m]\n\u001b[0;32m      7\u001b[0m label_str \u001b[38;5;241m=\u001b[39m \u001b[38;5;124mf\u001b[39m\u001b[38;5;124m\"\u001b[39m\u001b[38;5;132;01m{\u001b[39;00mch_name\u001b[38;5;132;01m}\u001b[39;00m\u001b[38;5;124m_\u001b[39m\u001b[38;5;132;01m{\u001b[39;00mch_gate\u001b[38;5;132;01m}\u001b[39;00m\u001b[38;5;124m\"\u001b[39m\n\u001b[1;32m----> 8\u001b[0m \u001b[43maxs\u001b[49m\u001b[43m[\u001b[49m\u001b[38;5;241;43m0\u001b[39;49m\u001b[43m,\u001b[49m\u001b[43mfig_c\u001b[49m\u001b[43m]\u001b[49m\u001b[38;5;241m.\u001b[39mplot(potenial, tmp_inf, label\u001b[38;5;241m=\u001b[39mlabel_str)\n\u001b[0;32m      9\u001b[0m axs[\u001b[38;5;241m0\u001b[39m,fig_c]\u001b[38;5;241m.\u001b[39mset_title(ch_gate)\n\u001b[0;32m     12\u001b[0m tmp_tau \u001b[38;5;241m=\u001b[39m ch_dict[ch_name][ch_gate][\u001b[38;5;241m1\u001b[39m]\n",
      "\u001b[1;31mIndexError\u001b[0m: index 2 is out of bounds for axis 1 with size 2"
     ]
    },
    {
     "data": {
      "image/png": "[encoded data removed]",
      "text/plain": [
       "<Figure size 640x480 with 4 Axes>"
      ]
     },
     "metadata": {},
     "output_type": "display_data"
    }
   ],
   "source": [
    "fig, axs = plt.subplots(2,2)\n",
    "\n",
    "fig.suptitle(\"Nav_1_6\")\n",
    "for ch_gate in ch_dict[\"Nav_1_6\"] :\n",
    "        #plt.subplot(2, 2, fig_c)\n",
    "        tmp_inf = ch_dict[ch_name][ch_gate][0]\n",
    "        label_str = f\"{ch_name}_{ch_gate}\"\n",
    "        axs[0,fig_c].plot(potenial, tmp_inf, label=label_str)\n",
    "        axs[0,fig_c].set_title(ch_gate)\n",
    "        \n",
    "\n",
    "        tmp_tau = ch_dict[ch_name][ch_gate][1]\n",
    "        axs[1,fig_c].plot(potenial, tmp_tau, label=label_str)\n",
    "     \n",
    "        fig_c += 1\n",
    "plt.tight_layout()\n",
    "axs[1,0].set_xlabel(\"mv\")\n",
    "axs[0,0].set_ylabel(\"inf\")\n",
    "axs[1,0].set_ylabel(\"tau\")\n",
    "axs[1,0].legend(fontsize=\"x-small\")"
   ]
  },
  {
   "cell_type": "code",
   "execution_count": null,
   "metadata": {},
   "outputs": [
    {
     "data": {
      "text/plain": [
       "dict_keys(['m', 'h'])"
      ]
     },
     "execution_count": 14,
     "metadata": {},
     "output_type": "execute_result"
    }
   ],
   "source": [
    "channels[\"Kv_1_1\"].gates.keys()"
   ]
  },
  {
   "cell_type": "code",
   "execution_count": null,
   "metadata": {},
   "outputs": [
    {
     "data": {
      "text/plain": [
       "array([0.99993863, 0.07511099])"
      ]
     },
     "execution_count": 15,
     "metadata": {},
     "output_type": "execute_result"
    }
   ],
   "source": [
    "channels[\"Kv_1_1\"].inf_calc(\"m\", 80) "
   ]
  },
  {
   "cell_type": "code",
   "execution_count": null,
   "metadata": {},
   "outputs": [
    {
     "data": {
      "text/plain": [
       "array([[9.99938633e-01, 7.51109913e-02],\n",
       "       [1.77123086e-02, 1.37588000e+04]])"
      ]
     },
     "execution_count": 16,
     "metadata": {},
     "output_type": "execute_result"
    }
   ],
   "source": [
    "channels[\"Kv_1_1\"].inf_calc_all_gates(80)"
   ]
  },
  {
   "cell_type": "code",
   "execution_count": null,
   "metadata": {},
   "outputs": [
    {
     "data": {
      "text/plain": [
       "dict_keys(['m', 'h'])"
      ]
     },
     "execution_count": 17,
     "metadata": {},
     "output_type": "execute_result"
    }
   ],
   "source": [
    "channels[\"Kv_1_1\"].gates.keys()"
   ]
  },
  {
   "cell_type": "code",
   "execution_count": null,
   "metadata": {},
   "outputs": [
    {
     "name": "stdout",
     "output_type": "stream",
     "text": [
      "m\n",
      "h\n"
     ]
    }
   ],
   "source": [
    "for gate in channels[\"Kv_1_1\"].gates.keys():\n",
    "    print(gate)"
   ]
  },
  {
   "cell_type": "code",
   "execution_count": null,
   "metadata": {},
   "outputs": [],
   "source": [
    "tpm1, tmp2 = channels[\"Kv_1_1\"].calc_dgate_dt(80, [20,500])"
   ]
  },
  {
   "cell_type": "code",
   "execution_count": null,
   "metadata": {},
   "outputs": [
    {
     "data": {
      "text/plain": [
       "-252.95980044107208"
      ]
     },
     "execution_count": 20,
     "metadata": {},
     "output_type": "execute_result"
    }
   ],
   "source": [
    "tpm1\n"
   ]
  },
  {
   "cell_type": "code",
   "execution_count": null,
   "metadata": {},
   "outputs": [
    {
     "data": {
      "text/plain": [
       "dict_keys(['Kv_1_1', 'Kv_1_2', 'Kv_1_3', 'Kv_1_4', 'Kv_1_5', 'Kv_1_6', 'Kv_2_1', 'Kv_2_2', 'Kv_3_1', 'Kv_3_2', 'Kv_4_2', 'Nav_1_3', 'Nav_1_6', 'Cav_2_2', 'Cav_3_1'])"
      ]
     },
     "execution_count": 21,
     "metadata": {},
     "output_type": "execute_result"
    }
   ],
   "source": [
    "channels.keys()"
   ]
  },
  {
   "cell_type": "code",
   "execution_count": null,
   "metadata": {},
   "outputs": [
    {
     "data": {
      "text/plain": [
       "1"
      ]
     },
     "execution_count": 30,
     "metadata": {},
     "output_type": "execute_result"
    }
   ],
   "source": [
    "channels[\"Nav_1_6\"].num_gates"
   ]
  },
  {
   "cell_type": "code",
   "execution_count": null,
   "metadata": {},
   "outputs": [],
   "source": [
    "desired_channels_name = [\"Kv_1_1\"]"
   ]
  },
  {
   "cell_type": "code",
   "execution_count": null,
   "metadata": {},
   "outputs": [
    {
     "data": {
      "text/plain": [
       "2"
      ]
     },
     "execution_count": 24,
     "metadata": {},
     "output_type": "execute_result"
    }
   ],
   "source": [
    "channels[\"Kv_1_1\"].num_gates"
   ]
  },
  {
   "cell_type": "code",
   "execution_count": null,
   "metadata": {},
   "outputs": [
    {
     "name": "stdout",
     "output_type": "stream",
     "text": [
      "2\n",
      "2\n",
      "2\n",
      "2\n",
      "2\n",
      "2\n",
      "2\n",
      "2\n",
      "1\n",
      "1\n",
      "2\n",
      "2\n",
      "1\n",
      "2\n",
      "2\n"
     ]
    }
   ],
   "source": [
    "for channel in channels.keys() :\n",
    "    print( channels[channel].num_gates)"
   ]
  },
  {
   "cell_type": "code",
   "execution_count": null,
   "metadata": {},
   "outputs": [],
   "source": [
    "data= np.array([1,2,3,4,5,6,7])"
   ]
  },
  {
   "cell_type": "code",
   "execution_count": null,
   "metadata": {},
   "outputs": [
    {
     "data": {
      "text/plain": [
       "array([-1, -1])"
      ]
     },
     "execution_count": 27,
     "metadata": {},
     "output_type": "execute_result"
    }
   ],
   "source": [
    "data[1:3] - data[2:4]"
   ]
  }
 ],
 "metadata": {
  "kernelspec": {
   "display_name": "Python 3",
   "language": "python",
   "name": "python3"
  },
  "language_info": {
   "codemirror_mode": {
    "name": "ipython",
    "version": 3
   },
   "file_extension": ".py",
   "mimetype": "text/x-python",
   "name": "python",
   "nbconvert_exporter": "python",
   "pygments_lexer": "ipython3",
   "version": "3.10.9"
  }
 },
 "nbformat": 4,
 "nbformat_minor": 2
}
